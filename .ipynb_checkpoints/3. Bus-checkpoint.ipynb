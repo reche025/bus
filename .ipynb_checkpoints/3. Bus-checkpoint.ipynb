{
 "cells": [
  {
   "cell_type": "code",
   "execution_count": 6,
   "metadata": {},
   "outputs": [
    {
     "name": "stdout",
     "output_type": "stream",
     "text": [
      "\n",
      "How many people are in the bus when it arrives at the first stop?\n",
      "5\n",
      "\n",
      "How many stops will the bus make?\n",
      "4\n",
      "\n",
      "Bus Occupation Stats:\n",
      "\n",
      "Number of stops: 4\n",
      "\n",
      "The bus' max occupation was 8 passengers.\n",
      "\n",
      "The bus' average occupation was 4 passengers.\n",
      "\n",
      "The bus' occupation's  standard deviation was 3.86.\n"
     ]
    }
   ],
   "source": [
    "#Setting the variables\n",
    "passenger_flow = [5, 3, 2, 1, 2, 8, 1, 3]\n",
    "\n",
    "stops = []\n",
    "flow = []\n",
    "\n",
    "a = 0\n",
    "b = 1\n",
    "c = 0\n",
    "#These inputs were assigned to allow for program's flexibilty\n",
    "d = input(\"\\nHow many people are in the bus when it arrives at the first stop?\\n\")\n",
    "e = input(\"\\nHow many stops will the bus make?\\n\")\n",
    "capacity = 0\n",
    "\n",
    "#Assigning passenger flow list to in/out tuples\n",
    "while len(stops) < int(e):\n",
    "  if len(passenger_flow) != (int(e) * 2) or int(d) < passenger_flow[1]:\n",
    "    print(\"\\nERROR: Incorrect number of stops or initial people on the bus assigned\")\n",
    "    break\n",
    "  elif len(passenger_flow) == (int(e) * 2) or int(d) > passenger_flow[1]:\n",
    "    stops.append(tuple((passenger_flow[a], passenger_flow[b])))\n",
    "  if len(stops) < int(e):\n",
    "    a += 2\n",
    "    b += 2\n",
    "\n",
    "#Calculation of the in/out flow of passengers on the bus\n",
    "for i in stops:\n",
    "  if len(flow) == 0:\n",
    "    capacity = (int(d) + stops[c][0]) - stops[c][1]\n",
    "  elif len(flow) > 0:\n",
    "    c += 1\n",
    "    capacity = (capacity + stops[c][0]) - stops[c][1]\n",
    "  if capacity >= 0:\n",
    "    flow.append(capacity)\n",
    "  if capacity < 0:\n",
    "    print(\"\\nERROR: An instance occurs where more people exit the bus than were on the bus, please fix in/out flow number list\")\n",
    "    break\n",
    "\n",
    "#Calculation of the bus occupation stats\n",
    "import statistics\n",
    "\n",
    "if len(passenger_flow) == (int(e) * 2) and int(d) >= passenger_flow[1] and capacity >= 0:\n",
    "  max_occupation = max(flow)\n",
    "  average_occupation = statistics.mean(flow)\n",
    "  stdev_occupation = statistics.stdev(flow)\n",
    "\n",
    "  print(\"\\nBus Occupation Stats:\")\n",
    "  print(\"\\nNumber of stops:\", len(stops))\n",
    "  print(\"\\nThe bus' max occupation was\", max_occupation, \"passengers.\")\n",
    "  print(\"\\nThe bus' average occupation was\", round(average_occupation), \"passengers.\")\n",
    "  print(\"\\nThe bus' occupation's  standard deviation was \" + str(round(stdev_occupation, 2)) + \".\")"
   ]
  },
  {
   "cell_type": "code",
   "execution_count": null,
   "metadata": {
    "scrolled": true
   },
   "outputs": [],
   "source": []
  },
  {
   "cell_type": "code",
   "execution_count": null,
   "metadata": {},
   "outputs": [],
   "source": []
  }
 ],
 "metadata": {
  "kernelspec": {
   "display_name": "Python 3",
   "language": "python",
   "name": "python3"
  },
  "language_info": {
   "codemirror_mode": {
    "name": "ipython",
    "version": 3
   },
   "file_extension": ".py",
   "mimetype": "text/x-python",
   "name": "python",
   "nbconvert_exporter": "python",
   "pygments_lexer": "ipython3",
   "version": "3.7.3"
  }
 },
 "nbformat": 4,
 "nbformat_minor": 2
}
